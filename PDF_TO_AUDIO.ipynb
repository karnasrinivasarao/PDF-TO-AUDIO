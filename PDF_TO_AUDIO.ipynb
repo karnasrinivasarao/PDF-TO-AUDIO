{
 "cells": [
  {
   "cell_type": "code",
   "execution_count": 3,
   "id": "fcf3904f",
   "metadata": {},
   "outputs": [],
   "source": [
    "import pyttsx3 as txt\n",
    "import PyPDF2 as pdf"
   ]
  },
  {
   "cell_type": "code",
   "execution_count": 4,
   "id": "2a084fec",
   "metadata": {},
   "outputs": [],
   "source": [
    "# It's just read the data in the form of audio and it is skipping few lines in between\n",
    "with open(\"C:/Users/srinivas/Desktop/simple.pdf\",\"rb\") as book:\n",
    "    \n",
    "    reader = pdf.PdfFileReader(book)\n",
    "    \n",
    "    audio_reader = txt.init()\n",
    "    audio_reader.setProperty(\"rate\", 100)\n",
    "    \n",
    "    for page in range(reader.numPages):\n",
    "        next_page = reader.getPage(page)\n",
    "        content = next_page.extractText()\n",
    "        \n",
    "        audio_reader.say(content)\n",
    "        audio_reader.runAndWait()"
   ]
  },
  {
   "cell_type": "code",
   "execution_count": 5,
   "id": "74f6be7d",
   "metadata": {},
   "outputs": [],
   "source": [
    "# It will create an audio file by using the pdf document\n",
    "with open(\"C:/Users/srinivas/Desktop/simple.pdf\",\"rb\") as book:\n",
    "    \n",
    "    full_text = \"\"\n",
    "    reader = pdf.PdfFileReader(book)\n",
    "    \n",
    "    audio_reader = txt.init()\n",
    "    audio_reader.setProperty(\"rate\", 100)\n",
    "    \n",
    "    for page in range(reader.numPages):\n",
    "        next_page = reader.getPage(page)\n",
    "        content = next_page.extractText()\n",
    "        full_text += content\n",
    "        \n",
    "        \n",
    "    audio_reader.say(full_text, \"myaudiobook.mp3\")\n",
    "    audio_reader.runAndWait()"
   ]
  },
  {
   "cell_type": "code",
   "execution_count": null,
   "id": "cca04aec",
   "metadata": {},
   "outputs": [],
   "source": []
  }
 ],
 "metadata": {
  "kernelspec": {
   "display_name": "Python 3",
   "language": "python",
   "name": "python3"
  },
  "language_info": {
   "codemirror_mode": {
    "name": "ipython",
    "version": 3
   },
   "file_extension": ".py",
   "mimetype": "text/x-python",
   "name": "python",
   "nbconvert_exporter": "python",
   "pygments_lexer": "ipython3",
   "version": "3.7.9"
  }
 },
 "nbformat": 4,
 "nbformat_minor": 5
}
